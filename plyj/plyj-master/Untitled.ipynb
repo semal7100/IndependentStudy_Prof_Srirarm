{
 "cells": [
  {
   "cell_type": "code",
   "execution_count": 4,
   "metadata": {
    "collapsed": true
   },
   "outputs": [],
   "source": [
    "import plyj.parser as plyj\n"
   ]
  },
  {
   "cell_type": "code",
   "execution_count": 5,
   "metadata": {},
   "outputs": [
    {
     "name": "stderr",
     "output_type": "stream",
     "text": [
      "WARNING: Token 'LINE_COMMENT' defined, but not used\n",
      "WARNING: Token 'BLOCK_COMMENT' defined, but not used\n",
      "WARNING: There are 2 unused tokens\n",
      "Generating LALR tables\n"
     ]
    }
   ],
   "source": [
    "parser = plyj.Parser()\n"
   ]
  },
  {
   "cell_type": "code",
   "execution_count": 18,
   "metadata": {},
   "outputs": [
    {
     "name": "stdout",
     "output_type": "stream",
     "text": [
      "CompilationUnit(package_declaration=None, import_declarations=[], type_declarations=[ClassDeclaration(name='helloworld', body=[MethodDeclaration(name='main', modifiers=['public', 'static'], type_parameters=[], parameters=[FormalParameter(variable=Variable(name='args', dimensions=0), type=Type(name=Name(value='String'), type_arguments=[], enclosed_in=None, dimensions=1), modifiers=[], vararg=False)], return_type='void', body=[ExpressionStatement(expression=MethodInvocation(name='println', arguments=[Literal(value='\"Hello, World\"')], type_arguments=[], target=Name(value='System.out')))], abstract=False, extended_dims=0, throws=None)], modifiers=['public'], type_parameters=[], extends=None, implements=[])])\n"
     ]
    }
   ],
   "source": [
    "tree = parser.parse_file(('helloworld.java'))\n",
    "print(tree)"
   ]
  },
  {
   "cell_type": "code",
   "execution_count": 16,
   "metadata": {},
   "outputs": [
    {
     "name": "stdout",
     "output_type": "stream",
     "text": [
      "CompilationUnit(package_declaration=None, import_declarations=[], type_declarations=[ClassDeclaration(name='helloworld', body=[], modifiers=[], type_parameters=[], extends=None, implements=[])])\n"
     ]
    }
   ],
   "source": [
    "tree = parser.parse_string('class helloworld { }')\n",
    "print(tree)"
   ]
  },
  {
   "cell_type": "code",
   "execution_count": 17,
   "metadata": {},
   "outputs": [
    {
     "name": "stdout",
     "output_type": "stream",
     "text": [
      "Multiplicative(operator='*', lhs=Multiplicative(operator='/', lhs=Literal(value='1'), rhs=Literal(value='2')), rhs=Cast(target=Type(name='float', type_arguments=[], enclosed_in=None, dimensions=0), expression=Literal(value='3')))\n"
     ]
    }
   ],
   "source": [
    "tree = parser.parse_expression('1 / 2 * (float) 3')\n",
    "print(tree)"
   ]
  },
  {
   "cell_type": "code",
   "execution_count": 15,
   "metadata": {},
   "outputs": [
    {
     "name": "stdout",
     "output_type": "stream",
     "text": [
      "Multiplicative(operator='*', lhs=Multiplicative(operator='/', lhs=Literal(value='1'), rhs=Literal(value='2')), rhs=Cast(target=Type(name='float', type_arguments=[], enclosed_in=None, dimensions=0), expression=Literal(value='3')))\n"
     ]
    }
   ],
   "source": [
    "print(tree)"
   ]
  },
  {
   "cell_type": "code",
   "execution_count": 20,
   "metadata": {},
   "outputs": [
    {
     "name": "stderr",
     "output_type": "stream",
     "text": [
      "E\n",
      "======================================================================\n",
      "ERROR: C:\\Users\\semal\\AppData\\Roaming\\jupyter\\runtime\\kernel-46785ad4-9fa7-48e4-b72b-320c0ee6d3d3 (unittest.loader._FailedTest)\n",
      "----------------------------------------------------------------------\n",
      "AttributeError: module '__main__' has no attribute 'C:\\Users\\semal\\AppData\\Roaming\\jupyter\\runtime\\kernel-46785ad4-9fa7-48e4-b72b-320c0ee6d3d3'\n",
      "\n",
      "----------------------------------------------------------------------\n",
      "Ran 1 test in 0.002s\n",
      "\n",
      "FAILED (errors=1)\n"
     ]
    },
    {
     "ename": "SystemExit",
     "evalue": "True",
     "output_type": "error",
     "traceback": [
      "An exception has occurred, use %tb to see the full traceback.\n",
      "\u001b[1;31mSystemExit\u001b[0m\u001b[1;31m:\u001b[0m True\n"
     ]
    },
    {
     "name": "stderr",
     "output_type": "stream",
     "text": [
      "C:\\Users\\semal\\Anaconda3.3\\lib\\site-packages\\IPython\\core\\interactiveshell.py:2870: UserWarning: To exit: use 'exit', 'quit', or Ctrl-D.\n",
      "  warn(\"To exit: use 'exit', 'quit', or Ctrl-D.\", stacklevel=1)\n"
     ]
    }
   ],
   "source": [
    "import unittest\n",
    "\n",
    "import plyj.parser as plyj\n",
    "import plyj.model as model\n",
    "\n",
    "one = model.Literal('1')\n",
    "two = model.Literal('2')\n",
    "three = model.Literal('3')\n",
    "a = model.Name('a')\n",
    "b = model.Name('b')\n",
    "c = model.Name('c')\n",
    "d = model.Name('d')\n",
    "e = model.Name('e')\n",
    "\n",
    "def bin(operator, operand1, operand2):\n",
    "    return model.BinaryExpression(operator, operand1, operand2)\n",
    "\n",
    "def u(operator, operand):\n",
    "    return model.Unary(operator, operand)\n",
    "\n",
    "expression_tests = [\n",
    "    # simple test for each operator\n",
    "    ('1+2', bin('+', one, two)),\n",
    "    (' 1 + 2 ', bin('+', one, two)),\n",
    "    ('1-2', bin('-', one, two)),\n",
    "    ('1*2', bin('*', one, two)),\n",
    "    ('1/2', bin('/', one, two)),\n",
    "    ('1%2', bin('%', one, two)),\n",
    "    ('1^2', bin('^', one, two)),\n",
    "    ('1&2', bin('&', one, two)),\n",
    "    ('1&&2', bin('&&', one, two)),\n",
    "    ('1|2', bin('|', one, two)),\n",
    "    ('1||2', bin('||', one, two)),\n",
    "    ('1==2', bin('==', one, two)),\n",
    "    ('1!=2', bin('!=', one, two)),\n",
    "    ('1<2', bin('<', one, two)),\n",
    "    ('1<=2', bin('<=', one, two)),\n",
    "    ('1>2', bin('>', one, two)),\n",
    "    ('1>=2', bin('>=', one, two)),\n",
    "    ('1<<2', bin('<<', one, two)),\n",
    "    ('1>>2', bin('>>', one, two)),\n",
    "    ('1>>>2', bin('>>>', one, two)),\n",
    "    # left associativity\n",
    "    ('1+2+3', bin('+', bin('+', one, two), three)),\n",
    "    # precedence\n",
    "    ('1+2*3', bin('+', one, bin('*', two, three))),\n",
    "    # parenthesized expressions\n",
    "    ('(1+2)*3', bin('*', bin('+', one, two), three)),\n",
    "    # conditionals\n",
    "    ('a ? b : c', model.Conditional(a, b, c)),\n",
    "    ('a ? b ? c : d : e', model.Conditional(a, model.Conditional(b, c, d), e)),\n",
    "    ('a ? b : c ? d : e', model.Conditional(a, b, model.Conditional(c, d, e))),\n",
    "    # unary expressions\n",
    "    ('+a', u('+', a)),\n",
    "    ('-a', u('-', a)),\n",
    "    ('!a', u('!', a)),\n",
    "    ('!!a', u('!', u('!', a))),\n",
    "    ('~a', u('~', a)),\n",
    "    ('++a', u('++x', a)),\n",
    "    ('--a', u('--x', a)),\n",
    "    ('a++', u('x++', a)),\n",
    "    ('a--', u('x--', a)),\n",
    "    # assignment expressions\n",
    "    ('a = 1', model.Assignment('=', a, one)),\n",
    "    ('a += 1', model.Assignment('+=', a, one)),\n",
    "    ('a -= 1', model.Assignment('-=', a, one)),\n",
    "    ('a *= 1', model.Assignment('*=', a, one)),\n",
    "    ('a /= 1', model.Assignment('/=', a, one)),\n",
    "    ('a %= 1', model.Assignment('%=', a, one)),\n",
    "    ('a ^= 1', model.Assignment('^=', a, one)),\n",
    "    ('a &= 1', model.Assignment('&=', a, one)),\n",
    "    ('a |= 1', model.Assignment('|=', a, one)),\n",
    "    ('a <<= 1', model.Assignment('<<=', a, one)),\n",
    "    ('a >>= 1', model.Assignment('>>=', a, one)),\n",
    "    ('a >>>= 1', model.Assignment('>>>=', a, one)),\n",
    "    # casts\n",
    "    ('(Foo) a', model.Cast(model.Type(model.Name('Foo')), a)),\n",
    "    ('(int[]) a', model.Cast(model.Type('int', dimensions=1), a)),\n",
    "    ('(Foo[]) a', model.Cast(model.Type(model.Name('Foo'), dimensions=1), a)),\n",
    "    ('(Foo<T>) a', model.Cast(model.Type(model.Name('Foo'), type_arguments=[model.Type(model.Name('T'))]), a)),\n",
    "    ('(Foo<T>.Bar) a', model.Cast(model.Type(model.Name('Bar'),\n",
    "                                  enclosed_in=model.Type(model.Name('Foo'), type_arguments=[model.Type(model.Name('T'))])), a)),\n",
    "    # method invocation\n",
    "    ('foo.bar()', model.MethodInvocation(name='bar', target=model.Name(value='foo'))),\n",
    "    ('foo.class.getName()', model.MethodInvocation(target=model.ClassLiteral(model.Type(model.Name('foo'))), name='getName')),\n",
    "\n",
    "    ('foo.Class[].class', model.ClassLiteral(model.Type(model.Name('foo.Class'), dimensions=1)))\n",
    "]\n",
    "\n",
    "class ExpressionTest(unittest.TestCase):\n",
    "\n",
    "    def setUp(self):\n",
    "        self.parser = plyj.Parser()\n",
    "\n",
    "    def test_expressions(self):\n",
    "        for expr, result in expression_tests:\n",
    "            t = self.parser.parse_expression(expr)\n",
    "            self.assertEqual(t, result, 'for {} got: {}, expected: {}'.format(expr, t, result))\n",
    "\n",
    "if __name__ == '__main__':\n",
    "    unittest.main()"
   ]
  },
  {
   "cell_type": "code",
   "execution_count": 21,
   "metadata": {},
   "outputs": [
    {
     "ename": "SystemExit",
     "evalue": "True",
     "output_type": "error",
     "traceback": [
      "\u001b[1;31m---------------------------------------------------------------------------\u001b[0m",
      "\u001b[1;31mSystemExit\u001b[0m                                Traceback (most recent call last)",
      "\u001b[1;32m<ipython-input-20-b53639e96e9b>\u001b[0m in \u001b[0;36m<module>\u001b[1;34m()\u001b[0m\n\u001b[0;32m     99\u001b[0m \u001b[1;33m\u001b[0m\u001b[0m\n\u001b[0;32m    100\u001b[0m \u001b[1;32mif\u001b[0m \u001b[0m__name__\u001b[0m \u001b[1;33m==\u001b[0m \u001b[1;34m'__main__'\u001b[0m\u001b[1;33m:\u001b[0m\u001b[1;33m\u001b[0m\u001b[0m\n\u001b[1;32m--> 101\u001b[1;33m     \u001b[0munittest\u001b[0m\u001b[1;33m.\u001b[0m\u001b[0mmain\u001b[0m\u001b[1;33m(\u001b[0m\u001b[1;33m)\u001b[0m\u001b[1;33m\u001b[0m\u001b[0m\n\u001b[0m",
      "\u001b[1;32m~\\Anaconda3.3\\lib\\unittest\\main.py\u001b[0m in \u001b[0;36m__init__\u001b[1;34m(self, module, defaultTest, argv, testRunner, testLoader, exit, verbosity, failfast, catchbreak, buffer, warnings, tb_locals)\u001b[0m\n\u001b[0;32m     93\u001b[0m         \u001b[0mself\u001b[0m\u001b[1;33m.\u001b[0m\u001b[0mprogName\u001b[0m \u001b[1;33m=\u001b[0m \u001b[0mos\u001b[0m\u001b[1;33m.\u001b[0m\u001b[0mpath\u001b[0m\u001b[1;33m.\u001b[0m\u001b[0mbasename\u001b[0m\u001b[1;33m(\u001b[0m\u001b[0margv\u001b[0m\u001b[1;33m[\u001b[0m\u001b[1;36m0\u001b[0m\u001b[1;33m]\u001b[0m\u001b[1;33m)\u001b[0m\u001b[1;33m\u001b[0m\u001b[0m\n\u001b[0;32m     94\u001b[0m         \u001b[0mself\u001b[0m\u001b[1;33m.\u001b[0m\u001b[0mparseArgs\u001b[0m\u001b[1;33m(\u001b[0m\u001b[0margv\u001b[0m\u001b[1;33m)\u001b[0m\u001b[1;33m\u001b[0m\u001b[0m\n\u001b[1;32m---> 95\u001b[1;33m         \u001b[0mself\u001b[0m\u001b[1;33m.\u001b[0m\u001b[0mrunTests\u001b[0m\u001b[1;33m(\u001b[0m\u001b[1;33m)\u001b[0m\u001b[1;33m\u001b[0m\u001b[0m\n\u001b[0m\u001b[0;32m     96\u001b[0m \u001b[1;33m\u001b[0m\u001b[0m\n\u001b[0;32m     97\u001b[0m     \u001b[1;32mdef\u001b[0m \u001b[0musageExit\u001b[0m\u001b[1;33m(\u001b[0m\u001b[0mself\u001b[0m\u001b[1;33m,\u001b[0m \u001b[0mmsg\u001b[0m\u001b[1;33m=\u001b[0m\u001b[1;32mNone\u001b[0m\u001b[1;33m)\u001b[0m\u001b[1;33m:\u001b[0m\u001b[1;33m\u001b[0m\u001b[0m\n",
      "\u001b[1;32m~\\Anaconda3.3\\lib\\unittest\\main.py\u001b[0m in \u001b[0;36mrunTests\u001b[1;34m(self)\u001b[0m\n\u001b[0;32m    256\u001b[0m         \u001b[0mself\u001b[0m\u001b[1;33m.\u001b[0m\u001b[0mresult\u001b[0m \u001b[1;33m=\u001b[0m \u001b[0mtestRunner\u001b[0m\u001b[1;33m.\u001b[0m\u001b[0mrun\u001b[0m\u001b[1;33m(\u001b[0m\u001b[0mself\u001b[0m\u001b[1;33m.\u001b[0m\u001b[0mtest\u001b[0m\u001b[1;33m)\u001b[0m\u001b[1;33m\u001b[0m\u001b[0m\n\u001b[0;32m    257\u001b[0m         \u001b[1;32mif\u001b[0m \u001b[0mself\u001b[0m\u001b[1;33m.\u001b[0m\u001b[0mexit\u001b[0m\u001b[1;33m:\u001b[0m\u001b[1;33m\u001b[0m\u001b[0m\n\u001b[1;32m--> 258\u001b[1;33m             \u001b[0msys\u001b[0m\u001b[1;33m.\u001b[0m\u001b[0mexit\u001b[0m\u001b[1;33m(\u001b[0m\u001b[1;32mnot\u001b[0m \u001b[0mself\u001b[0m\u001b[1;33m.\u001b[0m\u001b[0mresult\u001b[0m\u001b[1;33m.\u001b[0m\u001b[0mwasSuccessful\u001b[0m\u001b[1;33m(\u001b[0m\u001b[1;33m)\u001b[0m\u001b[1;33m)\u001b[0m\u001b[1;33m\u001b[0m\u001b[0m\n\u001b[0m\u001b[0;32m    259\u001b[0m \u001b[1;33m\u001b[0m\u001b[0m\n\u001b[0;32m    260\u001b[0m \u001b[0mmain\u001b[0m \u001b[1;33m=\u001b[0m \u001b[0mTestProgram\u001b[0m\u001b[1;33m\u001b[0m\u001b[0m\n",
      "\u001b[1;31mSystemExit\u001b[0m: True"
     ]
    }
   ],
   "source": [
    "%tb\n"
   ]
  },
  {
   "cell_type": "code",
   "execution_count": 28,
   "metadata": {},
   "outputs": [
    {
     "ename": "TypeError",
     "evalue": "'CompilationUnit' object is not iterable",
     "output_type": "error",
     "traceback": [
      "\u001b[1;31m---------------------------------------------------------------------------\u001b[0m",
      "\u001b[1;31mTypeError\u001b[0m                                 Traceback (most recent call last)",
      "\u001b[1;32m<ipython-input-28-87dc47d65a6f>\u001b[0m in \u001b[0;36m<module>\u001b[1;34m()\u001b[0m\n\u001b[0;32m      1\u001b[0m \u001b[0mtree2\u001b[0m \u001b[1;33m=\u001b[0m \u001b[0mparser\u001b[0m\u001b[1;33m.\u001b[0m\u001b[0mparse_file\u001b[0m\u001b[1;33m(\u001b[0m\u001b[1;33m(\u001b[0m\u001b[1;34m'WordCount.java'\u001b[0m\u001b[1;33m)\u001b[0m\u001b[1;33m)\u001b[0m\u001b[1;33m\u001b[0m\u001b[0m\n\u001b[1;32m----> 2\u001b[1;33m \u001b[1;32mfor\u001b[0m \u001b[0melement\u001b[0m \u001b[1;32min\u001b[0m \u001b[0mtree2\u001b[0m\u001b[1;33m:\u001b[0m\u001b[1;33m\u001b[0m\u001b[0m\n\u001b[0m\u001b[0;32m      3\u001b[0m     \u001b[0mprint\u001b[0m\u001b[1;33m(\u001b[0m\u001b[0melement\u001b[0m\u001b[1;33m)\u001b[0m\u001b[1;33m\u001b[0m\u001b[0m\n",
      "\u001b[1;31mTypeError\u001b[0m: 'CompilationUnit' object is not iterable"
     ]
    }
   ],
   "source": [
    "tree2 = parser.parse_file(('WordCount.java'))\n",
    "for element in tree2:\n",
    "    print(element)"
   ]
  },
  {
   "cell_type": "code",
   "execution_count": 24,
   "metadata": {},
   "outputs": [
    {
     "name": "stdout",
     "output_type": "stream",
     "text": [
      "<class 'plyj.model.CompilationUnit'>\n"
     ]
    }
   ],
   "source": [
    "print(type(tree2))"
   ]
  },
  {
   "cell_type": "code",
   "execution_count": 25,
   "metadata": {},
   "outputs": [
    {
     "ename": "TypeError",
     "evalue": "'CompilationUnit' object is not iterable",
     "output_type": "error",
     "traceback": [
      "\u001b[1;31m---------------------------------------------------------------------------\u001b[0m",
      "\u001b[1;31mTypeError\u001b[0m                                 Traceback (most recent call last)",
      "\u001b[1;32m<ipython-input-25-da5ca4599f00>\u001b[0m in \u001b[0;36m<module>\u001b[1;34m()\u001b[0m\n\u001b[1;32m----> 1\u001b[1;33m \u001b[1;32mfor\u001b[0m \u001b[0mpath\u001b[0m\u001b[1;33m,\u001b[0m \u001b[0mnode\u001b[0m \u001b[1;32min\u001b[0m \u001b[0mtree2\u001b[0m\u001b[1;33m:\u001b[0m\u001b[1;33m\u001b[0m\u001b[0m\n\u001b[0m\u001b[0;32m      2\u001b[0m     \u001b[0mprint\u001b[0m \u001b[1;33m(\u001b[0m\u001b[0mpath\u001b[0m\u001b[1;33m,\u001b[0m \u001b[0mnode\u001b[0m\u001b[1;33m)\u001b[0m\u001b[1;33m\u001b[0m\u001b[0m\n",
      "\u001b[1;31mTypeError\u001b[0m: 'CompilationUnit' object is not iterable"
     ]
    }
   ],
   "source": [
    "for path, node in tree2:\n",
    "...     print (path, node)"
   ]
  },
  {
   "cell_type": "code",
   "execution_count": 27,
   "metadata": {},
   "outputs": [
    {
     "name": "stdout",
     "output_type": "stream",
     "text": [
      "usage: parse_expr.py <expression> ...\n",
      "   Example: parse_expr.py '1+2' '3' 'j = (int) i + 3' \n"
     ]
    },
    {
     "name": "stderr",
     "output_type": "stream",
     "text": [
      "WARNING: Token 'LINE_COMMENT' defined, but not used\n",
      "WARNING: Token 'BLOCK_COMMENT' defined, but not used\n",
      "WARNING: There are 2 unused tokens\n",
      "Generating LALR tables\n"
     ]
    },
    {
     "name": "stdout",
     "output_type": "stream",
     "text": [
      "Unary(sign='-', expression=Name(value='f'))\n",
      "error: LexToken(:,':',1,3)\n",
      "Illegal character '\\' (0x5c) in line 1\n",
      "Illegal character '\\' (0x5c) in line 1\n",
      "Illegal character '\\' (0x5c) in line 1\n",
      "Illegal character '\\' (0x5c) in line 1\n",
      "Illegal character '\\' (0x5c) in line 1\n",
      "Illegal character '\\' (0x5c) in line 1\n",
      "Illegal character '\\' (0x5c) in line 1\n",
      "None\n"
     ]
    }
   ],
   "source": [
    "import sys\n",
    "print('''usage: parse_expr.py <expression> ...\n",
    "   Example: parse_expr.py '1+2' '3' 'j = (int) i + 3' ''')\n",
    "\n",
    "import plyj.parser as plyj\n",
    "\n",
    "parser = plyj.Parser()\n",
    "for expr in sys.argv[1:]:\n",
    "    print(parser.parse_expression(expr))"
   ]
  },
  {
   "cell_type": "code",
   "execution_count": null,
   "metadata": {
    "collapsed": true
   },
   "outputs": [],
   "source": []
  }
 ],
 "metadata": {
  "kernelspec": {
   "display_name": "Python 3",
   "language": "python",
   "name": "python3"
  },
  "language_info": {
   "codemirror_mode": {
    "name": "ipython",
    "version": 3
   },
   "file_extension": ".py",
   "mimetype": "text/x-python",
   "name": "python",
   "nbconvert_exporter": "python",
   "pygments_lexer": "ipython3",
   "version": "3.6.3"
  }
 },
 "nbformat": 4,
 "nbformat_minor": 2
}
